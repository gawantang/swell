{
 "cells": [
  {
   "cell_type": "markdown",
   "metadata": {
    "colab_type": "text",
    "id": "Ipgd2nV8Jpgl"
   },
   "source": [
    "## The Data Science Pipeline\n",
    "\n",
    "This is Tier Three, so we'll get you started. But after that, it's all in your hands! When you feel done with your investigations, look back over what you've accomplished, and prepare a quick presentation of your findings for the next mentor meeting. \n",
    "\n",
    "Data Science is magical. In this case study, you'll get to apply some complex machine learning algorithms. But as  [David Spiegelhalter](https://www.youtube.com/watch?v=oUs1uvsz0Ok) reminds us, there is no substitute for simply **taking a really, really good look at the data.** Sometimes, this is all we need to answer our question.\n",
    "\n",
    "Data Science projects generally adhere to the four stages of Data Science Pipeline:\n",
    "1. Sourcing and loading \n",
    "2. Cleaning, transforming, and visualizing \n",
    "3. Modeling \n",
    "4. Evaluating and concluding \n"
   ]
  },
  {
   "cell_type": "code",
   "execution_count": null,
   "metadata": {},
   "outputs": [],
   "source": []
  },
  {
   "cell_type": "code",
   "execution_count": null,
   "metadata": {},
   "outputs": [],
   "source": []
  },
  {
   "cell_type": "code",
   "execution_count": null,
   "metadata": {},
   "outputs": [],
   "source": []
  },
  {
   "cell_type": "code",
   "execution_count": null,
   "metadata": {},
   "outputs": [],
   "source": []
  },
  {
   "cell_type": "code",
   "execution_count": null,
   "metadata": {},
   "outputs": [],
   "source": []
  },
  {
   "cell_type": "markdown",
   "metadata": {
    "colab_type": "text",
    "id": "zswDqbefJpgm"
   },
   "source": [
    "### 1. Sourcing and Loading \n",
    "\n",
    "Any Data Science project kicks off by importing  ***pandas***. The documentation of this wonderful library can be found [here](https://pandas.pydata.org/). As you've seen, pandas is conveniently connected to the [Numpy](http://www.numpy.org/) and [Matplotlib](https://matplotlib.org/) libraries. \n",
    "\n",
    "***Hint:*** This part of the data science pipeline will test those skills you acquired in the pandas Foundations course, Module One. "
   ]
  },
  {
   "cell_type": "markdown",
   "metadata": {
    "colab_type": "text",
    "id": "aEau5nEvJpgm"
   },
   "source": [
    "#### 1.1. Importing Libraries"
   ]
  },
  {
   "cell_type": "markdown",
   "metadata": {
    "colab_type": "text",
    "id": "koUrawxsJpgq"
   },
   "source": [
    "#### 1.2.  Loading the data\n",
    "Your data comes from the [London Datastore](https://data.london.gov.uk/): a free, open-source data-sharing portal for London-oriented datasets. "
   ]
  },
  {
   "cell_type": "code",
   "execution_count": 1213,
   "metadata": {},
   "outputs": [
    {
     "name": "stdout",
     "output_type": "stream",
     "text": [
      "The history saving thread hit an unexpected error (OperationalError('attempt to write a readonly database')).History will not be written to the database.\n"
     ]
    }
   ],
   "source": [
    "# Let's import the pandas, numpy libraries as pd, and np respectively. \n",
    "import pandas as pd\n",
    "import numpy as np\n",
    "\n",
    "# Load the pyplot collection of functions from matplotlib, as plt \n",
    "import matplotlib.pyplot as plt"
   ]
  },
  {
   "cell_type": "code",
   "execution_count": 1215,
   "metadata": {},
   "outputs": [],
   "source": [
    "# desktoppath = \"Users/graceawantang/Documents/Data_Science_Bootcamp/London_Housing_case_study/UK_House_price_index\"\n",
    "# desktoppath2 = \"/Users/grace/Downloads/UK_House_price_index.xlsx\"\n",
    "desktoppath3 = \"/Users/grace/Documents/GitHub/London/UK_House_price_index.xlsx\"\n",
    "\n",
    "properties = pd.read_excel(desktoppath3, sheet_name='Average price', index_col= None)\n",
    "\n",
    "# Prefix the string with r: r\"C:\\Users\\path\\to\\file\". The r prefix stands for raw, and tells the parser to accept all backslashes literally, never as escape characters."
   ]
  },
  {
   "cell_type": "markdown",
   "metadata": {
    "colab_type": "text",
    "id": "POukEJXgJpgu"
   },
   "source": [
    "### 2. Cleaning, transforming, and visualizing\n",
    "This second stage is arguably the most important part of any Data Science project. The first thing to do is take a proper look at the data. Cleaning forms the majority of this stage, and can be done both before or after Transformation.\n",
    "\n",
    "The end goal of data cleaning is to have tidy data. When data is tidy: \n",
    "\n",
    "1. Each variable has a column.\n",
    "2. Each observation forms a row.\n",
    "\n",
    "Keep the end goal in mind as you move through this process, every step will take you closer. \n",
    "\n",
    "\n",
    "\n",
    "***Hint:*** This part of the data science pipeline should test those skills you acquired in: \n",
    "- Intermediate Python for data science, all modules.\n",
    "- pandas Foundations, all modules. \n",
    "- Manipulating DataFrames with pandas, all modules.\n",
    "- Data Types for Data Science, Module Four.\n",
    "- Python Data Science Toolbox - Part One, all modules"
   ]
  },
  {
   "cell_type": "markdown",
   "metadata": {
    "colab_type": "text",
    "id": "Te0Q548tnzZa"
   },
   "source": [
    "**2.1. Exploring your data** \n",
    "\n",
    "Think about your pandas functions for checking out a dataframe. "
   ]
  },
  {
   "cell_type": "code",
   "execution_count": 1217,
   "metadata": {},
   "outputs": [
    {
     "name": "stdout",
     "output_type": "stream",
     "text": [
      "<class 'pandas.core.frame.DataFrame'>\n",
      "RangeIndex: 361 entries, 0 to 360\n",
      "Data columns (total 49 columns):\n",
      " #   Column                Non-Null Count  Dtype         \n",
      "---  ------                --------------  -----         \n",
      " 0   Unnamed: 0            360 non-null    datetime64[ns]\n",
      " 1   City of London        361 non-null    object        \n",
      " 2   Barking & Dagenham    361 non-null    object        \n",
      " 3   Barnet                361 non-null    object        \n",
      " 4   Bexley                361 non-null    object        \n",
      " 5   Brent                 361 non-null    object        \n",
      " 6   Bromley               361 non-null    object        \n",
      " 7   Camden                361 non-null    object        \n",
      " 8   Croydon               361 non-null    object        \n",
      " 9   Ealing                361 non-null    object        \n",
      " 10  Enfield               361 non-null    object        \n",
      " 11  Greenwich             361 non-null    object        \n",
      " 12  Hackney               361 non-null    object        \n",
      " 13  Hammersmith & Fulham  361 non-null    object        \n",
      " 14  Haringey              361 non-null    object        \n",
      " 15  Harrow                361 non-null    object        \n",
      " 16  Havering              361 non-null    object        \n",
      " 17  Hillingdon            361 non-null    object        \n",
      " 18  Hounslow              361 non-null    object        \n",
      " 19  Islington             361 non-null    object        \n",
      " 20  Kensington & Chelsea  361 non-null    object        \n",
      " 21  Kingston upon Thames  361 non-null    object        \n",
      " 22  Lambeth               361 non-null    object        \n",
      " 23  Lewisham              361 non-null    object        \n",
      " 24  Merton                361 non-null    object        \n",
      " 25  Newham                361 non-null    object        \n",
      " 26  Redbridge             361 non-null    object        \n",
      " 27  Richmond upon Thames  361 non-null    object        \n",
      " 28  Southwark             361 non-null    object        \n",
      " 29  Sutton                361 non-null    object        \n",
      " 30  Tower Hamlets         361 non-null    object        \n",
      " 31  Waltham Forest        361 non-null    object        \n",
      " 32  Wandsworth            361 non-null    object        \n",
      " 33  Westminster           361 non-null    object        \n",
      " 34  Unnamed: 34           0 non-null      float64       \n",
      " 35  Inner London          361 non-null    object        \n",
      " 36  Outer London          361 non-null    object        \n",
      " 37  Unnamed: 37           0 non-null      float64       \n",
      " 38  NORTH EAST            361 non-null    object        \n",
      " 39  NORTH WEST            361 non-null    object        \n",
      " 40  YORKS & THE HUMBER    361 non-null    object        \n",
      " 41  EAST MIDLANDS         361 non-null    object        \n",
      " 42  WEST MIDLANDS         361 non-null    object        \n",
      " 43  EAST OF ENGLAND       361 non-null    object        \n",
      " 44  LONDON                361 non-null    object        \n",
      " 45  SOUTH EAST            361 non-null    object        \n",
      " 46  SOUTH WEST            361 non-null    object        \n",
      " 47  Unnamed: 47           0 non-null      float64       \n",
      " 48  England               361 non-null    object        \n",
      "dtypes: datetime64[ns](1), float64(3), object(45)\n",
      "memory usage: 138.3+ KB\n"
     ]
    },
    {
     "data": {
      "text/html": [
       "<div>\n",
       "<style scoped>\n",
       "    .dataframe tbody tr th:only-of-type {\n",
       "        vertical-align: middle;\n",
       "    }\n",
       "\n",
       "    .dataframe tbody tr th {\n",
       "        vertical-align: top;\n",
       "    }\n",
       "\n",
       "    .dataframe thead th {\n",
       "        text-align: right;\n",
       "    }\n",
       "</style>\n",
       "<table border=\"1\" class=\"dataframe\">\n",
       "  <thead>\n",
       "    <tr style=\"text-align: right;\">\n",
       "      <th></th>\n",
       "      <th>Unnamed: 0</th>\n",
       "      <th>City of London</th>\n",
       "      <th>Barking &amp; Dagenham</th>\n",
       "      <th>Barnet</th>\n",
       "      <th>Bexley</th>\n",
       "      <th>Brent</th>\n",
       "      <th>Bromley</th>\n",
       "      <th>Camden</th>\n",
       "      <th>Croydon</th>\n",
       "      <th>Ealing</th>\n",
       "      <th>...</th>\n",
       "      <th>NORTH WEST</th>\n",
       "      <th>YORKS &amp; THE HUMBER</th>\n",
       "      <th>EAST MIDLANDS</th>\n",
       "      <th>WEST MIDLANDS</th>\n",
       "      <th>EAST OF ENGLAND</th>\n",
       "      <th>LONDON</th>\n",
       "      <th>SOUTH EAST</th>\n",
       "      <th>SOUTH WEST</th>\n",
       "      <th>Unnamed: 47</th>\n",
       "      <th>England</th>\n",
       "    </tr>\n",
       "  </thead>\n",
       "  <tbody>\n",
       "    <tr>\n",
       "      <th>0</th>\n",
       "      <td>NaT</td>\n",
       "      <td>E09000001</td>\n",
       "      <td>E09000002</td>\n",
       "      <td>E09000003</td>\n",
       "      <td>E09000004</td>\n",
       "      <td>E09000005</td>\n",
       "      <td>E09000006</td>\n",
       "      <td>E09000007</td>\n",
       "      <td>E09000008</td>\n",
       "      <td>E09000009</td>\n",
       "      <td>...</td>\n",
       "      <td>E12000002</td>\n",
       "      <td>E12000003</td>\n",
       "      <td>E12000004</td>\n",
       "      <td>E12000005</td>\n",
       "      <td>E12000006</td>\n",
       "      <td>E12000007</td>\n",
       "      <td>E12000008</td>\n",
       "      <td>E12000009</td>\n",
       "      <td>NaN</td>\n",
       "      <td>E92000001</td>\n",
       "    </tr>\n",
       "    <tr>\n",
       "      <th>1</th>\n",
       "      <td>1995-01-01</td>\n",
       "      <td>90347</td>\n",
       "      <td>51870</td>\n",
       "      <td>98948</td>\n",
       "      <td>64956</td>\n",
       "      <td>76880</td>\n",
       "      <td>83082</td>\n",
       "      <td>119775</td>\n",
       "      <td>70118</td>\n",
       "      <td>85469</td>\n",
       "      <td>...</td>\n",
       "      <td>40907</td>\n",
       "      <td>42171</td>\n",
       "      <td>43856</td>\n",
       "      <td>46470</td>\n",
       "      <td>56098</td>\n",
       "      <td>79687</td>\n",
       "      <td>64502</td>\n",
       "      <td>52799</td>\n",
       "      <td>NaN</td>\n",
       "      <td>50231</td>\n",
       "    </tr>\n",
       "    <tr>\n",
       "      <th>2</th>\n",
       "      <td>1995-02-01</td>\n",
       "      <td>81213</td>\n",
       "      <td>52513</td>\n",
       "      <td>98848</td>\n",
       "      <td>64786</td>\n",
       "      <td>77651</td>\n",
       "      <td>83068</td>\n",
       "      <td>118365</td>\n",
       "      <td>69908</td>\n",
       "      <td>86551</td>\n",
       "      <td>...</td>\n",
       "      <td>40877</td>\n",
       "      <td>41912</td>\n",
       "      <td>44344</td>\n",
       "      <td>47249</td>\n",
       "      <td>55991</td>\n",
       "      <td>77913</td>\n",
       "      <td>64196</td>\n",
       "      <td>52462</td>\n",
       "      <td>NaN</td>\n",
       "      <td>50130</td>\n",
       "    </tr>\n",
       "    <tr>\n",
       "      <th>3</th>\n",
       "      <td>1995-03-01</td>\n",
       "      <td>78168</td>\n",
       "      <td>52701</td>\n",
       "      <td>97848</td>\n",
       "      <td>64366</td>\n",
       "      <td>77644</td>\n",
       "      <td>82856</td>\n",
       "      <td>119131</td>\n",
       "      <td>69666</td>\n",
       "      <td>87067</td>\n",
       "      <td>...</td>\n",
       "      <td>41351</td>\n",
       "      <td>42544</td>\n",
       "      <td>43701</td>\n",
       "      <td>47345</td>\n",
       "      <td>55574</td>\n",
       "      <td>79110</td>\n",
       "      <td>64597</td>\n",
       "      <td>51716</td>\n",
       "      <td>NaN</td>\n",
       "      <td>50229</td>\n",
       "    </tr>\n",
       "    <tr>\n",
       "      <th>4</th>\n",
       "      <td>1995-04-01</td>\n",
       "      <td>76172</td>\n",
       "      <td>54618</td>\n",
       "      <td>96273</td>\n",
       "      <td>64276</td>\n",
       "      <td>78668</td>\n",
       "      <td>82525</td>\n",
       "      <td>118948</td>\n",
       "      <td>69562</td>\n",
       "      <td>87933</td>\n",
       "      <td>...</td>\n",
       "      <td>41195</td>\n",
       "      <td>42934</td>\n",
       "      <td>44414</td>\n",
       "      <td>47359</td>\n",
       "      <td>55966</td>\n",
       "      <td>79708</td>\n",
       "      <td>65111</td>\n",
       "      <td>52877</td>\n",
       "      <td>NaN</td>\n",
       "      <td>50597</td>\n",
       "    </tr>\n",
       "  </tbody>\n",
       "</table>\n",
       "<p>5 rows × 49 columns</p>\n",
       "</div>"
      ],
      "text/plain": [
       "  Unnamed: 0 City of London Barking & Dagenham     Barnet     Bexley  \\\n",
       "0        NaT      E09000001          E09000002  E09000003  E09000004   \n",
       "1 1995-01-01          90347              51870      98948      64956   \n",
       "2 1995-02-01          81213              52513      98848      64786   \n",
       "3 1995-03-01          78168              52701      97848      64366   \n",
       "4 1995-04-01          76172              54618      96273      64276   \n",
       "\n",
       "       Brent    Bromley     Camden    Croydon     Ealing  ... NORTH WEST  \\\n",
       "0  E09000005  E09000006  E09000007  E09000008  E09000009  ...  E12000002   \n",
       "1      76880      83082     119775      70118      85469  ...      40907   \n",
       "2      77651      83068     118365      69908      86551  ...      40877   \n",
       "3      77644      82856     119131      69666      87067  ...      41351   \n",
       "4      78668      82525     118948      69562      87933  ...      41195   \n",
       "\n",
       "  YORKS & THE HUMBER EAST MIDLANDS WEST MIDLANDS EAST OF ENGLAND     LONDON  \\\n",
       "0          E12000003     E12000004     E12000005       E12000006  E12000007   \n",
       "1              42171         43856         46470           56098      79687   \n",
       "2              41912         44344         47249           55991      77913   \n",
       "3              42544         43701         47345           55574      79110   \n",
       "4              42934         44414         47359           55966      79708   \n",
       "\n",
       "  SOUTH EAST SOUTH WEST Unnamed: 47    England  \n",
       "0  E12000008  E12000009         NaN  E92000001  \n",
       "1      64502      52799         NaN      50231  \n",
       "2      64196      52462         NaN      50130  \n",
       "3      64597      51716         NaN      50229  \n",
       "4      65111      52877         NaN      50597  \n",
       "\n",
       "[5 rows x 49 columns]"
      ]
     },
     "execution_count": 1217,
     "metadata": {},
     "output_type": "execute_result"
    }
   ],
   "source": [
    "properties.info()\n",
    "properties.head()"
   ]
  },
  {
   "cell_type": "markdown",
   "metadata": {
    "colab_type": "text",
    "id": "tE9Sqt9-oAta"
   },
   "source": [
    "**2.2. Cleaning the data**\n",
    "\n",
    "You might find you need to transpose your dataframe, check out what its row indexes are, and reset the index. You  also might find you need to assign the values of the first row to your column headings  . (Hint: recall the .columns feature of DataFrames, as well as the iloc[] method).\n",
    "\n",
    "Don't be afraid to use StackOverflow for help  with this."
   ]
  },
  {
   "cell_type": "code",
   "execution_count": 1219,
   "metadata": {},
   "outputs": [
    {
     "data": {
      "text/html": [
       "<div>\n",
       "<style scoped>\n",
       "    .dataframe tbody tr th:only-of-type {\n",
       "        vertical-align: middle;\n",
       "    }\n",
       "\n",
       "    .dataframe tbody tr th {\n",
       "        vertical-align: top;\n",
       "    }\n",
       "\n",
       "    .dataframe thead th {\n",
       "        text-align: right;\n",
       "    }\n",
       "</style>\n",
       "<table border=\"1\" class=\"dataframe\">\n",
       "  <thead>\n",
       "    <tr style=\"text-align: right;\">\n",
       "      <th></th>\n",
       "      <th>0</th>\n",
       "      <th>1</th>\n",
       "      <th>2</th>\n",
       "      <th>3</th>\n",
       "      <th>4</th>\n",
       "      <th>5</th>\n",
       "      <th>6</th>\n",
       "      <th>7</th>\n",
       "      <th>8</th>\n",
       "      <th>9</th>\n",
       "      <th>...</th>\n",
       "      <th>351</th>\n",
       "      <th>352</th>\n",
       "      <th>353</th>\n",
       "      <th>354</th>\n",
       "      <th>355</th>\n",
       "      <th>356</th>\n",
       "      <th>357</th>\n",
       "      <th>358</th>\n",
       "      <th>359</th>\n",
       "      <th>360</th>\n",
       "    </tr>\n",
       "  </thead>\n",
       "  <tbody>\n",
       "    <tr>\n",
       "      <th>Unnamed: 0</th>\n",
       "      <td>NaT</td>\n",
       "      <td>1995-01-01 00:00:00</td>\n",
       "      <td>1995-02-01 00:00:00</td>\n",
       "      <td>1995-03-01 00:00:00</td>\n",
       "      <td>1995-04-01 00:00:00</td>\n",
       "      <td>1995-05-01 00:00:00</td>\n",
       "      <td>1995-06-01 00:00:00</td>\n",
       "      <td>1995-07-01 00:00:00</td>\n",
       "      <td>1995-08-01 00:00:00</td>\n",
       "      <td>1995-09-01 00:00:00</td>\n",
       "      <td>...</td>\n",
       "      <td>2024-03-01 00:00:00</td>\n",
       "      <td>2024-04-01 00:00:00</td>\n",
       "      <td>2024-05-01 00:00:00</td>\n",
       "      <td>2024-06-01 00:00:00</td>\n",
       "      <td>2024-07-01 00:00:00</td>\n",
       "      <td>2024-08-01 00:00:00</td>\n",
       "      <td>2024-09-01 00:00:00</td>\n",
       "      <td>2024-10-01 00:00:00</td>\n",
       "      <td>2024-11-01 00:00:00</td>\n",
       "      <td>2024-12-01 00:00:00</td>\n",
       "    </tr>\n",
       "    <tr>\n",
       "      <th>City of London</th>\n",
       "      <td>E09000001</td>\n",
       "      <td>90347</td>\n",
       "      <td>81213</td>\n",
       "      <td>78168</td>\n",
       "      <td>76172</td>\n",
       "      <td>83392</td>\n",
       "      <td>93757</td>\n",
       "      <td>108801</td>\n",
       "      <td>110976</td>\n",
       "      <td>103215</td>\n",
       "      <td>...</td>\n",
       "      <td>892515</td>\n",
       "      <td>871986</td>\n",
       "      <td>860972</td>\n",
       "      <td>797832</td>\n",
       "      <td>745201</td>\n",
       "      <td>731341</td>\n",
       "      <td>713777</td>\n",
       "      <td>687104</td>\n",
       "      <td>680670</td>\n",
       "      <td>792499</td>\n",
       "    </tr>\n",
       "    <tr>\n",
       "      <th>Barking &amp; Dagenham</th>\n",
       "      <td>E09000002</td>\n",
       "      <td>51870</td>\n",
       "      <td>52513</td>\n",
       "      <td>52701</td>\n",
       "      <td>54618</td>\n",
       "      <td>54524</td>\n",
       "      <td>55200</td>\n",
       "      <td>53569</td>\n",
       "      <td>53691</td>\n",
       "      <td>52909</td>\n",
       "      <td>...</td>\n",
       "      <td>342817</td>\n",
       "      <td>344631</td>\n",
       "      <td>344640</td>\n",
       "      <td>342051</td>\n",
       "      <td>349225</td>\n",
       "      <td>347689</td>\n",
       "      <td>350143</td>\n",
       "      <td>351439</td>\n",
       "      <td>354980</td>\n",
       "      <td>355594</td>\n",
       "    </tr>\n",
       "    <tr>\n",
       "      <th>Barnet</th>\n",
       "      <td>E09000003</td>\n",
       "      <td>98948</td>\n",
       "      <td>98848</td>\n",
       "      <td>97848</td>\n",
       "      <td>96273</td>\n",
       "      <td>95737</td>\n",
       "      <td>95577</td>\n",
       "      <td>96992</td>\n",
       "      <td>97968</td>\n",
       "      <td>98936</td>\n",
       "      <td>...</td>\n",
       "      <td>604879</td>\n",
       "      <td>608108</td>\n",
       "      <td>616911</td>\n",
       "      <td>620768</td>\n",
       "      <td>625383</td>\n",
       "      <td>628771</td>\n",
       "      <td>625476</td>\n",
       "      <td>622268</td>\n",
       "      <td>624855</td>\n",
       "      <td>616916</td>\n",
       "    </tr>\n",
       "    <tr>\n",
       "      <th>Bexley</th>\n",
       "      <td>E09000004</td>\n",
       "      <td>64956</td>\n",
       "      <td>64786</td>\n",
       "      <td>64366</td>\n",
       "      <td>64276</td>\n",
       "      <td>63995</td>\n",
       "      <td>64251</td>\n",
       "      <td>63721</td>\n",
       "      <td>64431</td>\n",
       "      <td>64508</td>\n",
       "      <td>...</td>\n",
       "      <td>395095</td>\n",
       "      <td>396719</td>\n",
       "      <td>395600</td>\n",
       "      <td>400090</td>\n",
       "      <td>399746</td>\n",
       "      <td>404894</td>\n",
       "      <td>407291</td>\n",
       "      <td>409074</td>\n",
       "      <td>406843</td>\n",
       "      <td>403541</td>\n",
       "    </tr>\n",
       "  </tbody>\n",
       "</table>\n",
       "<p>5 rows × 361 columns</p>\n",
       "</div>"
      ],
      "text/plain": [
       "                          0                    1                    2    \\\n",
       "Unnamed: 0                NaT  1995-01-01 00:00:00  1995-02-01 00:00:00   \n",
       "City of London      E09000001                90347                81213   \n",
       "Barking & Dagenham  E09000002                51870                52513   \n",
       "Barnet              E09000003                98948                98848   \n",
       "Bexley              E09000004                64956                64786   \n",
       "\n",
       "                                    3                    4    \\\n",
       "Unnamed: 0          1995-03-01 00:00:00  1995-04-01 00:00:00   \n",
       "City of London                    78168                76172   \n",
       "Barking & Dagenham                52701                54618   \n",
       "Barnet                            97848                96273   \n",
       "Bexley                            64366                64276   \n",
       "\n",
       "                                    5                    6    \\\n",
       "Unnamed: 0          1995-05-01 00:00:00  1995-06-01 00:00:00   \n",
       "City of London                    83392                93757   \n",
       "Barking & Dagenham                54524                55200   \n",
       "Barnet                            95737                95577   \n",
       "Bexley                            63995                64251   \n",
       "\n",
       "                                    7                    8    \\\n",
       "Unnamed: 0          1995-07-01 00:00:00  1995-08-01 00:00:00   \n",
       "City of London                   108801               110976   \n",
       "Barking & Dagenham                53569                53691   \n",
       "Barnet                            96992                97968   \n",
       "Bexley                            63721                64431   \n",
       "\n",
       "                                    9    ...                  351  \\\n",
       "Unnamed: 0          1995-09-01 00:00:00  ...  2024-03-01 00:00:00   \n",
       "City of London                   103215  ...               892515   \n",
       "Barking & Dagenham                52909  ...               342817   \n",
       "Barnet                            98936  ...               604879   \n",
       "Bexley                            64508  ...               395095   \n",
       "\n",
       "                                    352                  353  \\\n",
       "Unnamed: 0          2024-04-01 00:00:00  2024-05-01 00:00:00   \n",
       "City of London                   871986               860972   \n",
       "Barking & Dagenham               344631               344640   \n",
       "Barnet                           608108               616911   \n",
       "Bexley                           396719               395600   \n",
       "\n",
       "                                    354                  355  \\\n",
       "Unnamed: 0          2024-06-01 00:00:00  2024-07-01 00:00:00   \n",
       "City of London                   797832               745201   \n",
       "Barking & Dagenham               342051               349225   \n",
       "Barnet                           620768               625383   \n",
       "Bexley                           400090               399746   \n",
       "\n",
       "                                    356                  357  \\\n",
       "Unnamed: 0          2024-08-01 00:00:00  2024-09-01 00:00:00   \n",
       "City of London                   731341               713777   \n",
       "Barking & Dagenham               347689               350143   \n",
       "Barnet                           628771               625476   \n",
       "Bexley                           404894               407291   \n",
       "\n",
       "                                    358                  359  \\\n",
       "Unnamed: 0          2024-10-01 00:00:00  2024-11-01 00:00:00   \n",
       "City of London                   687104               680670   \n",
       "Barking & Dagenham               351439               354980   \n",
       "Barnet                           622268               624855   \n",
       "Bexley                           409074               406843   \n",
       "\n",
       "                                    360  \n",
       "Unnamed: 0          2024-12-01 00:00:00  \n",
       "City of London                   792499  \n",
       "Barking & Dagenham               355594  \n",
       "Barnet                           616916  \n",
       "Bexley                           403541  \n",
       "\n",
       "[5 rows x 361 columns]"
      ]
     },
     "execution_count": 1219,
     "metadata": {},
     "output_type": "execute_result"
    }
   ],
   "source": [
    "properties_t = properties.transpose()\n",
    "properties_t.head()"
   ]
  },
  {
   "cell_type": "code",
   "execution_count": 1221,
   "metadata": {},
   "outputs": [
    {
     "name": "stdout",
     "output_type": "stream",
     "text": [
      "Unnamed: 0                NaT 1995-01-01 1995-02-01 1995-03-01 1995-04-01  \\\n",
      "City of London      E09000001      90347      81213      78168      76172   \n",
      "Barking & Dagenham  E09000002      51870      52513      52701      54618   \n",
      "Barnet              E09000003      98948      98848      97848      96273   \n",
      "Bexley              E09000004      64956      64786      64366      64276   \n",
      "Brent               E09000005      76880      77651      77644      78668   \n",
      "\n",
      "Unnamed: 0         1995-05-01 1995-06-01 1995-07-01 1995-08-01 1995-09-01  \\\n",
      "City of London          83392      93757     108801     110976     103215   \n",
      "Barking & Dagenham      54524      55200      53569      53691      52909   \n",
      "Barnet                  95737      95577      96992      97968      98936   \n",
      "Bexley                  63995      64251      63721      64431      64508   \n",
      "Brent                   79464      80118      79920      79295      79557   \n",
      "\n",
      "Unnamed: 0          ... 2024-03-01 2024-04-01 2024-05-01 2024-06-01  \\\n",
      "City of London      ...     892515     871986     860972     797832   \n",
      "Barking & Dagenham  ...     342817     344631     344640     342051   \n",
      "Barnet              ...     604879     608108     616911     620768   \n",
      "Bexley              ...     395095     396719     395600     400090   \n",
      "Brent               ...     555677     540262     538706     567471   \n",
      "\n",
      "Unnamed: 0         2024-07-01 2024-08-01 2024-09-01 2024-10-01 2024-11-01  \\\n",
      "City of London         745201     731341     713777     687104     680670   \n",
      "Barking & Dagenham     349225     347689     350143     351439     354980   \n",
      "Barnet                 625383     628771     625476     622268     624855   \n",
      "Bexley                 399746     404894     407291     409074     406843   \n",
      "Brent                  570755     585713     589162     597468     593162   \n",
      "\n",
      "Unnamed: 0         2024-12-01  \n",
      "City of London         792499  \n",
      "Barking & Dagenham     355594  \n",
      "Barnet                 616916  \n",
      "Bexley                 403541  \n",
      "Brent                  570649  \n",
      "\n",
      "[5 rows x 361 columns]\n"
     ]
    },
    {
     "name": "stderr",
     "output_type": "stream",
     "text": [
      "/opt/anaconda3/lib/python3.12/site-packages/pandas/core/indexes/base.py:7631: FutureWarning: Dtype inference on a pandas object (Series, Index, ExtensionArray) is deprecated. The Index constructor will keep the original dtype in the future. Call `infer_objects` on the result to get the old behavior.\n",
      "  return Index(index_like, name=name, copy=copy)\n"
     ]
    }
   ],
   "source": [
    "# promote row to header\n",
    "properties_t.columns = properties_t.iloc[0]\n",
    "properties_t = properties_t.drop(properties_t.index[0])                                \n",
    "print(properties_t.head())"
   ]
  },
  {
   "cell_type": "code",
   "execution_count": 1223,
   "metadata": {},
   "outputs": [
    {
     "data": {
      "text/html": [
       "<div>\n",
       "<style scoped>\n",
       "    .dataframe tbody tr th:only-of-type {\n",
       "        vertical-align: middle;\n",
       "    }\n",
       "\n",
       "    .dataframe tbody tr th {\n",
       "        vertical-align: top;\n",
       "    }\n",
       "\n",
       "    .dataframe thead th {\n",
       "        text-align: right;\n",
       "    }\n",
       "</style>\n",
       "<table border=\"1\" class=\"dataframe\">\n",
       "  <thead>\n",
       "    <tr style=\"text-align: right;\">\n",
       "      <th>Unnamed: 0</th>\n",
       "      <th>index</th>\n",
       "      <th>NaT</th>\n",
       "      <th>1995-01-01 00:00:00</th>\n",
       "      <th>1995-02-01 00:00:00</th>\n",
       "      <th>1995-03-01 00:00:00</th>\n",
       "      <th>1995-04-01 00:00:00</th>\n",
       "      <th>1995-05-01 00:00:00</th>\n",
       "      <th>1995-06-01 00:00:00</th>\n",
       "      <th>1995-07-01 00:00:00</th>\n",
       "      <th>1995-08-01 00:00:00</th>\n",
       "      <th>...</th>\n",
       "      <th>2024-03-01 00:00:00</th>\n",
       "      <th>2024-04-01 00:00:00</th>\n",
       "      <th>2024-05-01 00:00:00</th>\n",
       "      <th>2024-06-01 00:00:00</th>\n",
       "      <th>2024-07-01 00:00:00</th>\n",
       "      <th>2024-08-01 00:00:00</th>\n",
       "      <th>2024-09-01 00:00:00</th>\n",
       "      <th>2024-10-01 00:00:00</th>\n",
       "      <th>2024-11-01 00:00:00</th>\n",
       "      <th>2024-12-01 00:00:00</th>\n",
       "    </tr>\n",
       "  </thead>\n",
       "  <tbody>\n",
       "    <tr>\n",
       "      <th>0</th>\n",
       "      <td>City of London</td>\n",
       "      <td>E09000001</td>\n",
       "      <td>90347</td>\n",
       "      <td>81213</td>\n",
       "      <td>78168</td>\n",
       "      <td>76172</td>\n",
       "      <td>83392</td>\n",
       "      <td>93757</td>\n",
       "      <td>108801</td>\n",
       "      <td>110976</td>\n",
       "      <td>...</td>\n",
       "      <td>892515</td>\n",
       "      <td>871986</td>\n",
       "      <td>860972</td>\n",
       "      <td>797832</td>\n",
       "      <td>745201</td>\n",
       "      <td>731341</td>\n",
       "      <td>713777</td>\n",
       "      <td>687104</td>\n",
       "      <td>680670</td>\n",
       "      <td>792499</td>\n",
       "    </tr>\n",
       "    <tr>\n",
       "      <th>1</th>\n",
       "      <td>Barking &amp; Dagenham</td>\n",
       "      <td>E09000002</td>\n",
       "      <td>51870</td>\n",
       "      <td>52513</td>\n",
       "      <td>52701</td>\n",
       "      <td>54618</td>\n",
       "      <td>54524</td>\n",
       "      <td>55200</td>\n",
       "      <td>53569</td>\n",
       "      <td>53691</td>\n",
       "      <td>...</td>\n",
       "      <td>342817</td>\n",
       "      <td>344631</td>\n",
       "      <td>344640</td>\n",
       "      <td>342051</td>\n",
       "      <td>349225</td>\n",
       "      <td>347689</td>\n",
       "      <td>350143</td>\n",
       "      <td>351439</td>\n",
       "      <td>354980</td>\n",
       "      <td>355594</td>\n",
       "    </tr>\n",
       "    <tr>\n",
       "      <th>2</th>\n",
       "      <td>Barnet</td>\n",
       "      <td>E09000003</td>\n",
       "      <td>98948</td>\n",
       "      <td>98848</td>\n",
       "      <td>97848</td>\n",
       "      <td>96273</td>\n",
       "      <td>95737</td>\n",
       "      <td>95577</td>\n",
       "      <td>96992</td>\n",
       "      <td>97968</td>\n",
       "      <td>...</td>\n",
       "      <td>604879</td>\n",
       "      <td>608108</td>\n",
       "      <td>616911</td>\n",
       "      <td>620768</td>\n",
       "      <td>625383</td>\n",
       "      <td>628771</td>\n",
       "      <td>625476</td>\n",
       "      <td>622268</td>\n",
       "      <td>624855</td>\n",
       "      <td>616916</td>\n",
       "    </tr>\n",
       "    <tr>\n",
       "      <th>3</th>\n",
       "      <td>Bexley</td>\n",
       "      <td>E09000004</td>\n",
       "      <td>64956</td>\n",
       "      <td>64786</td>\n",
       "      <td>64366</td>\n",
       "      <td>64276</td>\n",
       "      <td>63995</td>\n",
       "      <td>64251</td>\n",
       "      <td>63721</td>\n",
       "      <td>64431</td>\n",
       "      <td>...</td>\n",
       "      <td>395095</td>\n",
       "      <td>396719</td>\n",
       "      <td>395600</td>\n",
       "      <td>400090</td>\n",
       "      <td>399746</td>\n",
       "      <td>404894</td>\n",
       "      <td>407291</td>\n",
       "      <td>409074</td>\n",
       "      <td>406843</td>\n",
       "      <td>403541</td>\n",
       "    </tr>\n",
       "    <tr>\n",
       "      <th>4</th>\n",
       "      <td>Brent</td>\n",
       "      <td>E09000005</td>\n",
       "      <td>76880</td>\n",
       "      <td>77651</td>\n",
       "      <td>77644</td>\n",
       "      <td>78668</td>\n",
       "      <td>79464</td>\n",
       "      <td>80118</td>\n",
       "      <td>79920</td>\n",
       "      <td>79295</td>\n",
       "      <td>...</td>\n",
       "      <td>555677</td>\n",
       "      <td>540262</td>\n",
       "      <td>538706</td>\n",
       "      <td>567471</td>\n",
       "      <td>570755</td>\n",
       "      <td>585713</td>\n",
       "      <td>589162</td>\n",
       "      <td>597468</td>\n",
       "      <td>593162</td>\n",
       "      <td>570649</td>\n",
       "    </tr>\n",
       "  </tbody>\n",
       "</table>\n",
       "<p>5 rows × 362 columns</p>\n",
       "</div>"
      ],
      "text/plain": [
       "Unnamed: 0               index        NaT 1995-01-01 00:00:00  \\\n",
       "0               City of London  E09000001               90347   \n",
       "1           Barking & Dagenham  E09000002               51870   \n",
       "2                       Barnet  E09000003               98948   \n",
       "3                       Bexley  E09000004               64956   \n",
       "4                        Brent  E09000005               76880   \n",
       "\n",
       "Unnamed: 0 1995-02-01 00:00:00 1995-03-01 00:00:00 1995-04-01 00:00:00  \\\n",
       "0                        81213               78168               76172   \n",
       "1                        52513               52701               54618   \n",
       "2                        98848               97848               96273   \n",
       "3                        64786               64366               64276   \n",
       "4                        77651               77644               78668   \n",
       "\n",
       "Unnamed: 0 1995-05-01 00:00:00 1995-06-01 00:00:00 1995-07-01 00:00:00  \\\n",
       "0                        83392               93757              108801   \n",
       "1                        54524               55200               53569   \n",
       "2                        95737               95577               96992   \n",
       "3                        63995               64251               63721   \n",
       "4                        79464               80118               79920   \n",
       "\n",
       "Unnamed: 0 1995-08-01 00:00:00  ... 2024-03-01 00:00:00 2024-04-01 00:00:00  \\\n",
       "0                       110976  ...              892515              871986   \n",
       "1                        53691  ...              342817              344631   \n",
       "2                        97968  ...              604879              608108   \n",
       "3                        64431  ...              395095              396719   \n",
       "4                        79295  ...              555677              540262   \n",
       "\n",
       "Unnamed: 0 2024-05-01 00:00:00 2024-06-01 00:00:00 2024-07-01 00:00:00  \\\n",
       "0                       860972              797832              745201   \n",
       "1                       344640              342051              349225   \n",
       "2                       616911              620768              625383   \n",
       "3                       395600              400090              399746   \n",
       "4                       538706              567471              570755   \n",
       "\n",
       "Unnamed: 0 2024-08-01 00:00:00 2024-09-01 00:00:00 2024-10-01 00:00:00  \\\n",
       "0                       731341              713777              687104   \n",
       "1                       347689              350143              351439   \n",
       "2                       628771              625476              622268   \n",
       "3                       404894              407291              409074   \n",
       "4                       585713              589162              597468   \n",
       "\n",
       "Unnamed: 0 2024-11-01 00:00:00 2024-12-01 00:00:00  \n",
       "0                       680670              792499  \n",
       "1                       354980              355594  \n",
       "2                       624855              616916  \n",
       "3                       406843              403541  \n",
       "4                       593162              570649  \n",
       "\n",
       "[5 rows x 362 columns]"
      ]
     },
     "execution_count": 1223,
     "metadata": {},
     "output_type": "execute_result"
    }
   ],
   "source": [
    "# Reset index, automatically moves city boroughs to a non-index column\n",
    "properties_t = properties_t.reset_index()\n",
    "properties_t.head()"
   ]
  },
  {
   "cell_type": "markdown",
   "metadata": {
    "colab_type": "text",
    "id": "o1uLbJAsoIjK"
   },
   "source": [
    "**2.3. Cleaning the data (part 2)**\n",
    "\n",
    "You might we have to **rename** a couple columns. How do you do this? The clue's pretty bold..."
   ]
  },
  {
   "cell_type": "code",
   "execution_count": 1225,
   "metadata": {},
   "outputs": [
    {
     "data": {
      "text/html": [
       "<div>\n",
       "<style scoped>\n",
       "    .dataframe tbody tr th:only-of-type {\n",
       "        vertical-align: middle;\n",
       "    }\n",
       "\n",
       "    .dataframe tbody tr th {\n",
       "        vertical-align: top;\n",
       "    }\n",
       "\n",
       "    .dataframe thead th {\n",
       "        text-align: right;\n",
       "    }\n",
       "</style>\n",
       "<table border=\"1\" class=\"dataframe\">\n",
       "  <thead>\n",
       "    <tr style=\"text-align: right;\">\n",
       "      <th>Unnamed: 0</th>\n",
       "      <th>London Boroughs</th>\n",
       "      <th>ID</th>\n",
       "      <th>1995-01-01 00:00:00</th>\n",
       "      <th>1995-02-01 00:00:00</th>\n",
       "      <th>1995-03-01 00:00:00</th>\n",
       "      <th>1995-04-01 00:00:00</th>\n",
       "      <th>1995-05-01 00:00:00</th>\n",
       "      <th>1995-06-01 00:00:00</th>\n",
       "      <th>1995-07-01 00:00:00</th>\n",
       "      <th>1995-08-01 00:00:00</th>\n",
       "      <th>...</th>\n",
       "      <th>2024-03-01 00:00:00</th>\n",
       "      <th>2024-04-01 00:00:00</th>\n",
       "      <th>2024-05-01 00:00:00</th>\n",
       "      <th>2024-06-01 00:00:00</th>\n",
       "      <th>2024-07-01 00:00:00</th>\n",
       "      <th>2024-08-01 00:00:00</th>\n",
       "      <th>2024-09-01 00:00:00</th>\n",
       "      <th>2024-10-01 00:00:00</th>\n",
       "      <th>2024-11-01 00:00:00</th>\n",
       "      <th>2024-12-01 00:00:00</th>\n",
       "    </tr>\n",
       "  </thead>\n",
       "  <tbody>\n",
       "    <tr>\n",
       "      <th>0</th>\n",
       "      <td>City of London</td>\n",
       "      <td>E09000001</td>\n",
       "      <td>90347</td>\n",
       "      <td>81213</td>\n",
       "      <td>78168</td>\n",
       "      <td>76172</td>\n",
       "      <td>83392</td>\n",
       "      <td>93757</td>\n",
       "      <td>108801</td>\n",
       "      <td>110976</td>\n",
       "      <td>...</td>\n",
       "      <td>892515</td>\n",
       "      <td>871986</td>\n",
       "      <td>860972</td>\n",
       "      <td>797832</td>\n",
       "      <td>745201</td>\n",
       "      <td>731341</td>\n",
       "      <td>713777</td>\n",
       "      <td>687104</td>\n",
       "      <td>680670</td>\n",
       "      <td>792499</td>\n",
       "    </tr>\n",
       "    <tr>\n",
       "      <th>1</th>\n",
       "      <td>Barking &amp; Dagenham</td>\n",
       "      <td>E09000002</td>\n",
       "      <td>51870</td>\n",
       "      <td>52513</td>\n",
       "      <td>52701</td>\n",
       "      <td>54618</td>\n",
       "      <td>54524</td>\n",
       "      <td>55200</td>\n",
       "      <td>53569</td>\n",
       "      <td>53691</td>\n",
       "      <td>...</td>\n",
       "      <td>342817</td>\n",
       "      <td>344631</td>\n",
       "      <td>344640</td>\n",
       "      <td>342051</td>\n",
       "      <td>349225</td>\n",
       "      <td>347689</td>\n",
       "      <td>350143</td>\n",
       "      <td>351439</td>\n",
       "      <td>354980</td>\n",
       "      <td>355594</td>\n",
       "    </tr>\n",
       "    <tr>\n",
       "      <th>2</th>\n",
       "      <td>Barnet</td>\n",
       "      <td>E09000003</td>\n",
       "      <td>98948</td>\n",
       "      <td>98848</td>\n",
       "      <td>97848</td>\n",
       "      <td>96273</td>\n",
       "      <td>95737</td>\n",
       "      <td>95577</td>\n",
       "      <td>96992</td>\n",
       "      <td>97968</td>\n",
       "      <td>...</td>\n",
       "      <td>604879</td>\n",
       "      <td>608108</td>\n",
       "      <td>616911</td>\n",
       "      <td>620768</td>\n",
       "      <td>625383</td>\n",
       "      <td>628771</td>\n",
       "      <td>625476</td>\n",
       "      <td>622268</td>\n",
       "      <td>624855</td>\n",
       "      <td>616916</td>\n",
       "    </tr>\n",
       "    <tr>\n",
       "      <th>3</th>\n",
       "      <td>Bexley</td>\n",
       "      <td>E09000004</td>\n",
       "      <td>64956</td>\n",
       "      <td>64786</td>\n",
       "      <td>64366</td>\n",
       "      <td>64276</td>\n",
       "      <td>63995</td>\n",
       "      <td>64251</td>\n",
       "      <td>63721</td>\n",
       "      <td>64431</td>\n",
       "      <td>...</td>\n",
       "      <td>395095</td>\n",
       "      <td>396719</td>\n",
       "      <td>395600</td>\n",
       "      <td>400090</td>\n",
       "      <td>399746</td>\n",
       "      <td>404894</td>\n",
       "      <td>407291</td>\n",
       "      <td>409074</td>\n",
       "      <td>406843</td>\n",
       "      <td>403541</td>\n",
       "    </tr>\n",
       "    <tr>\n",
       "      <th>4</th>\n",
       "      <td>Brent</td>\n",
       "      <td>E09000005</td>\n",
       "      <td>76880</td>\n",
       "      <td>77651</td>\n",
       "      <td>77644</td>\n",
       "      <td>78668</td>\n",
       "      <td>79464</td>\n",
       "      <td>80118</td>\n",
       "      <td>79920</td>\n",
       "      <td>79295</td>\n",
       "      <td>...</td>\n",
       "      <td>555677</td>\n",
       "      <td>540262</td>\n",
       "      <td>538706</td>\n",
       "      <td>567471</td>\n",
       "      <td>570755</td>\n",
       "      <td>585713</td>\n",
       "      <td>589162</td>\n",
       "      <td>597468</td>\n",
       "      <td>593162</td>\n",
       "      <td>570649</td>\n",
       "    </tr>\n",
       "  </tbody>\n",
       "</table>\n",
       "<p>5 rows × 362 columns</p>\n",
       "</div>"
      ],
      "text/plain": [
       "Unnamed: 0     London Boroughs         ID 1995-01-01 00:00:00  \\\n",
       "0               City of London  E09000001               90347   \n",
       "1           Barking & Dagenham  E09000002               51870   \n",
       "2                       Barnet  E09000003               98948   \n",
       "3                       Bexley  E09000004               64956   \n",
       "4                        Brent  E09000005               76880   \n",
       "\n",
       "Unnamed: 0 1995-02-01 00:00:00 1995-03-01 00:00:00 1995-04-01 00:00:00  \\\n",
       "0                        81213               78168               76172   \n",
       "1                        52513               52701               54618   \n",
       "2                        98848               97848               96273   \n",
       "3                        64786               64366               64276   \n",
       "4                        77651               77644               78668   \n",
       "\n",
       "Unnamed: 0 1995-05-01 00:00:00 1995-06-01 00:00:00 1995-07-01 00:00:00  \\\n",
       "0                        83392               93757              108801   \n",
       "1                        54524               55200               53569   \n",
       "2                        95737               95577               96992   \n",
       "3                        63995               64251               63721   \n",
       "4                        79464               80118               79920   \n",
       "\n",
       "Unnamed: 0 1995-08-01 00:00:00  ... 2024-03-01 00:00:00 2024-04-01 00:00:00  \\\n",
       "0                       110976  ...              892515              871986   \n",
       "1                        53691  ...              342817              344631   \n",
       "2                        97968  ...              604879              608108   \n",
       "3                        64431  ...              395095              396719   \n",
       "4                        79295  ...              555677              540262   \n",
       "\n",
       "Unnamed: 0 2024-05-01 00:00:00 2024-06-01 00:00:00 2024-07-01 00:00:00  \\\n",
       "0                       860972              797832              745201   \n",
       "1                       344640              342051              349225   \n",
       "2                       616911              620768              625383   \n",
       "3                       395600              400090              399746   \n",
       "4                       538706              567471              570755   \n",
       "\n",
       "Unnamed: 0 2024-08-01 00:00:00 2024-09-01 00:00:00 2024-10-01 00:00:00  \\\n",
       "0                       731341              713777              687104   \n",
       "1                       347689              350143              351439   \n",
       "2                       628771              625476              622268   \n",
       "3                       404894              407291              409074   \n",
       "4                       585713              589162              597468   \n",
       "\n",
       "Unnamed: 0 2024-11-01 00:00:00 2024-12-01 00:00:00  \n",
       "0                       680670              792499  \n",
       "1                       354980              355594  \n",
       "2                       624855              616916  \n",
       "3                       406843              403541  \n",
       "4                       593162              570649  \n",
       "\n",
       "[5 rows x 362 columns]"
      ]
     },
     "execution_count": 1225,
     "metadata": {},
     "output_type": "execute_result"
    }
   ],
   "source": [
    "# rename columns\n",
    "# pd.NaT (Not a Time) is a special value in pandas used to represent missing datetime values\n",
    "properties_t = properties_t.rename(columns={pd.NaT: 'ID','index':'London Boroughs'})\n",
    "properties_t = properties_t.rename(index={'Unnamed: 0': '','index':'London Boroughs'})\n",
    "properties_t.head()"
   ]
  },
  {
   "cell_type": "code",
   "execution_count": 1227,
   "metadata": {},
   "outputs": [
    {
     "name": "stdout",
     "output_type": "stream",
     "text": [
      "<class 'pandas.core.series.Series'>\n",
      "36    361\n",
      "46    361\n",
      "33    361\n",
      "35      0\n",
      "26      0\n",
      "27      0\n",
      "28      0\n",
      "29      0\n",
      "30      0\n",
      "31      0\n",
      "32      0\n",
      "34      0\n",
      "0       0\n",
      "1       0\n",
      "37      0\n",
      "38      0\n",
      "39      0\n",
      "40      0\n",
      "41      0\n",
      "42      0\n",
      "43      0\n",
      "44      0\n",
      "45      0\n",
      "25      0\n",
      "24      0\n",
      "23      0\n",
      "11      0\n",
      "2       0\n",
      "3       0\n",
      "4       0\n",
      "5       0\n",
      "6       0\n",
      "7       0\n",
      "8       0\n",
      "9       0\n",
      "10      0\n",
      "12      0\n",
      "22      0\n",
      "13      0\n",
      "14      0\n",
      "15      0\n",
      "16      0\n",
      "17      0\n",
      "18      0\n",
      "19      0\n",
      "20      0\n",
      "21      0\n",
      "47      0\n",
      "dtype: int64\n"
     ]
    }
   ],
   "source": [
    "# Delete rows with all missing data\n",
    "row_num_missing = properties_t.isna().sum(axis=1)\n",
    "print(type(row_num_missing))\n",
    "print(row_num_missing.sort_values(ascending = False))\n",
    "rows_all_missing_indices = [36, 46, 33]\n"
   ]
  },
  {
   "cell_type": "code",
   "execution_count": 1235,
   "metadata": {},
   "outputs": [
    {
     "name": "stdout",
     "output_type": "stream",
     "text": [
      "(45, 362)\n",
      "<class 'pandas.core.series.Series'>\n",
      "0     0\n",
      "23    0\n",
      "25    0\n",
      "26    0\n",
      "27    0\n",
      "28    0\n",
      "29    0\n",
      "30    0\n",
      "31    0\n",
      "32    0\n",
      "34    0\n",
      "35    0\n",
      "37    0\n",
      "38    0\n",
      "39    0\n",
      "40    0\n",
      "41    0\n",
      "42    0\n",
      "43    0\n",
      "44    0\n",
      "45    0\n",
      "24    0\n",
      "22    0\n",
      "1     0\n",
      "21    0\n",
      "2     0\n",
      "3     0\n",
      "4     0\n",
      "5     0\n",
      "6     0\n",
      "7     0\n",
      "8     0\n",
      "9     0\n",
      "10    0\n",
      "11    0\n",
      "12    0\n",
      "13    0\n",
      "14    0\n",
      "15    0\n",
      "16    0\n",
      "17    0\n",
      "18    0\n",
      "19    0\n",
      "20    0\n",
      "47    0\n",
      "dtype: int64\n"
     ]
    }
   ],
   "source": [
    "# Drop 3 rows with missing values and check it worked\n",
    "properties_t.drop(rows_all_missing_indices, inplace = True)     \n",
    "print(properties_t.shape)\n",
    "row_num_missing_check = properties_t.isna().sum(axis=1)\n",
    "print(type(row_num_missing_check))\n",
    "print(row_num_missing_check.sort_values(ascending = False))\n"
   ]
  },
  {
   "cell_type": "markdown",
   "metadata": {
    "colab_type": "text",
    "id": "jy8BzXHmoWEw"
   },
   "source": [
    "**2.4.Transforming the data**\n",
    "\n",
    "Remember what Wes McKinney said about tidy data? \n",
    "\n",
    "You might need to **melt** your DataFrame here. "
   ]
  },
  {
   "cell_type": "code",
   "execution_count": 1237,
   "metadata": {},
   "outputs": [
    {
     "name": "stdout",
     "output_type": "stream",
     "text": [
      "          ID     London Boroughs                 Date  Price\n",
      "0  E09000001      City of London  1995-01-01 00:00:00  90347\n",
      "1  E09000002  Barking & Dagenham  1995-01-01 00:00:00  51870\n",
      "2  E09000003              Barnet  1995-01-01 00:00:00  98948\n",
      "3  E09000004              Bexley  1995-01-01 00:00:00  64956\n",
      "4  E09000005               Brent  1995-01-01 00:00:00  76880\n"
     ]
    }
   ],
   "source": [
    "# Reshape data frame, rename new columns\n",
    "properties_long = pd.melt(properties_t,id_vars=['ID','London Boroughs'])\n",
    "properties_long = properties_long.rename(columns = {'Unnamed: 0':'Date', 'value':'Price'})\n",
    "print(properties_long.head())"
   ]
  },
  {
   "cell_type": "code",
   "execution_count": 1239,
   "metadata": {},
   "outputs": [
    {
     "name": "stdout",
     "output_type": "stream",
     "text": [
      "0        1995-01-01\n",
      "1        1995-01-01\n",
      "2        1995-01-01\n",
      "3        1995-01-01\n",
      "4        1995-01-01\n",
      "            ...    \n",
      "16195    2024-12-01\n",
      "16196    2024-12-01\n",
      "16197    2024-12-01\n",
      "16198    2024-12-01\n",
      "16199    2024-12-01\n",
      "Name: Date, Length: 16200, dtype: object\n",
      "          ID     London Boroughs        Date  Price\n",
      "0  E09000001      City of London  1995-01-01  90347\n",
      "1  E09000002  Barking & Dagenham  1995-01-01  51870\n",
      "2  E09000003              Barnet  1995-01-01  98948\n",
      "3  E09000004              Bexley  1995-01-01  64956\n",
      "4  E09000005               Brent  1995-01-01  76880\n"
     ]
    }
   ],
   "source": [
    "# reformat the dates to remove time stamp\n",
    "new_date_series  = pd.to_datetime(properties_long['Date']).dt.date\n",
    "print(new_date_series)\n",
    "properties_long['Date'] = new_date_series\n",
    "print(properties_long.head())\n"
   ]
  },
  {
   "cell_type": "code",
   "execution_count": 1241,
   "metadata": {},
   "outputs": [
    {
     "name": "stdout",
     "output_type": "stream",
     "text": [
      "<bound method DataFrame.info of               ID     London Boroughs        Date   Price\n",
      "0      E09000001      City of London  1995-01-01   90347\n",
      "1      E09000002  Barking & Dagenham  1995-01-01   51870\n",
      "2      E09000003              Barnet  1995-01-01   98948\n",
      "3      E09000004              Bexley  1995-01-01   64956\n",
      "4      E09000005               Brent  1995-01-01   76880\n",
      "...          ...                 ...         ...     ...\n",
      "16195  E12000006     EAST OF ENGLAND  2024-12-01  340385\n",
      "16196  E12000007              LONDON  2024-12-01  548939\n",
      "16197  E12000008          SOUTH EAST  2024-12-01  383605\n",
      "16198  E12000009          SOUTH WEST  2024-12-01  305843\n",
      "16199  E92000001             England  2024-12-01  290564\n",
      "\n",
      "[16200 rows x 4 columns]>\n"
     ]
    }
   ],
   "source": [
    "print(properties_long.info)\n"
   ]
  },
  {
   "cell_type": "markdown",
   "metadata": {
    "colab_type": "text",
    "id": "7kIsgAo7o3mf"
   },
   "source": [
    "Remember to make sure your column data types are all correct. Average prices, for example, should be floating point numbers... "
   ]
  },
  {
   "cell_type": "code",
   "execution_count": 1243,
   "metadata": {
    "colab": {},
    "colab_type": "code",
    "id": "ZcR4IHbcpOaq"
   },
   "outputs": [
    {
     "data": {
      "text/plain": [
       "datetime.date"
      ]
     },
     "execution_count": 1243,
     "metadata": {},
     "output_type": "execute_result"
    }
   ],
   "source": [
    "properties_long.info\n",
    "# Assuming your DataFrame is named 'df' and the column to convert is 'column_name'\n",
    "properties_long['Price'] = properties_long['Price'].astype(float)\n",
    "type(properties_long.loc[10,'Price'])\n",
    "type(properties_long.loc[10,'ID'])\n",
    "type(properties_long.loc[10,'London Boroughs'])\n",
    "type(properties_long.loc[10,'Date'])"
   ]
  },
  {
   "cell_type": "markdown",
   "metadata": {
    "colab_type": "text",
    "id": "knLUXHLypOtw"
   },
   "source": [
    "**2.5. Cleaning the data (part 3)**\n",
    "\n",
    "Do we have an equal number of observations in the ID, Average Price, Month, and London Borough columns? Remember that there are only 32 London Boroughs. How many entries do you have in that column? \n",
    "\n",
    "Check out the contents of the London Borough column, and if you find null values, get rid of them however you see fit. "
   ]
  },
  {
   "cell_type": "code",
   "execution_count": 1245,
   "metadata": {
    "colab": {},
    "colab_type": "code",
    "id": "BnvTW5a3p0fC"
   },
   "outputs": [
    {
     "data": {
      "text/plain": [
       "ID                    45\n",
       "London Boroughs       45\n",
       "Date                 360\n",
       "Price              15949\n",
       "dtype: int64"
      ]
     },
     "execution_count": 1245,
     "metadata": {},
     "output_type": "execute_result"
    }
   ],
   "source": [
    "# check number of values in each column\n",
    "properties_long.count()\n",
    "properties_long.nunique()"
   ]
  },
  {
   "cell_type": "code",
   "execution_count": 1247,
   "metadata": {},
   "outputs": [
    {
     "name": "stdout",
     "output_type": "stream",
     "text": [
      "['City of London' 'Barking & Dagenham' 'Barnet' 'Bexley' 'Brent' 'Bromley'\n",
      " 'Camden' 'Croydon' 'Ealing' 'Enfield' 'Greenwich' 'Hackney'\n",
      " 'Hammersmith & Fulham' 'Haringey' 'Harrow' 'Havering' 'Hillingdon'\n",
      " 'Hounslow' 'Islington' 'Kensington & Chelsea' 'Kingston upon Thames'\n",
      " 'Lambeth' 'Lewisham' 'Merton' 'Newham' 'Redbridge' 'Richmond upon Thames'\n",
      " 'Southwark' 'Sutton' 'Tower Hamlets' 'Waltham Forest' 'Wandsworth'\n",
      " 'Westminster' 'Inner London' 'Outer London' 'NORTH EAST' 'NORTH WEST'\n",
      " 'YORKS & THE HUMBER' 'EAST MIDLANDS' 'WEST MIDLANDS' 'EAST OF ENGLAND'\n",
      " 'LONDON' 'SOUTH EAST' 'SOUTH WEST' 'England']\n"
     ]
    }
   ],
   "source": [
    "# check out why i have 45 London boroughs\n",
    "print(properties_long['London Boroughs'].unique())\n",
    "# apparently 12 of these are not London boroughs\n",
    "not_boroughs = ['Inner London', 'Outer London', 'NORTH EAST', 'NORTH WEST',\n",
    " 'YORKS & THE HUMBER', 'EAST MIDLANDS', 'WEST MIDLANDS', 'EAST OF ENGLAND',\n",
    " 'LONDON', 'SOUTH EAST', 'SOUTH WEST', 'England', 'City of London']"
   ]
  },
  {
   "cell_type": "code",
   "execution_count": 1249,
   "metadata": {},
   "outputs": [
    {
     "name": "stdout",
     "output_type": "stream",
     "text": [
      "          ID     London Boroughs        Date    Price\n",
      "1  E09000002  Barking & Dagenham  1995-01-01  51870.0\n",
      "2  E09000003              Barnet  1995-01-01  98948.0\n",
      "3  E09000004              Bexley  1995-01-01  64956.0\n",
      "4  E09000005               Brent  1995-01-01  76880.0\n",
      "5  E09000006             Bromley  1995-01-01  83082.0\n",
      "(11520, 4)\n",
      "ID                    32\n",
      "London Boroughs       32\n",
      "Date                 360\n",
      "Price              11401\n",
      "dtype: int64\n",
      "              ID London Boroughs        Date     Price\n",
      "16183  E09000029          Sutton  2024-12-01  447784.0\n",
      "16184  E09000030   Tower Hamlets  2024-12-01  510154.0\n",
      "16185  E09000031  Waltham Forest  2024-12-01  522637.0\n",
      "16186  E09000032      Wandsworth  2024-12-01  677987.0\n",
      "16187  E09000033     Westminster  2024-12-01  868377.0\n"
     ]
    }
   ],
   "source": [
    "# Remove boroughs that are not part of London\n",
    "properties_long = (properties_long[~properties_long['London Boroughs'].isin(not_boroughs)])\n",
    "print(properties_long.head())\n",
    "print(properties_long.shape)\n",
    "print(properties_long.nunique())\n",
    "print(properties_long.tail())\n"
   ]
  },
  {
   "cell_type": "markdown",
   "metadata": {
    "colab_type": "text",
    "id": "PGEx6mJsp6dG"
   },
   "source": [
    "**2.6. Visualizing the data**\n",
    "\n",
    "To visualize the data, why not subset on a particular London Borough? Maybe do a line plot of Month against Average Price?"
   ]
  },
  {
   "cell_type": "code",
   "execution_count": 1253,
   "metadata": {},
   "outputs": [
    {
     "data": {
      "image/png": "[encoded data removed]",
      "text/plain": [
       "<Figure size 640x480 with 1 Axes>"
      ]
     },
     "metadata": {},
     "output_type": "display_data"
    }
   ],
   "source": [
    "poorbor_df = properties_long[properties_long['London Boroughs'] == 'Tower Hamlets']\n",
    "poorbor_df.plot(x = 'Date', y = 'Price', kind = 'line')\n",
    "plt.show()"
   ]
  },
  {
   "cell_type": "code",
   "execution_count": null,
   "metadata": {},
   "outputs": [],
   "source": [
    "# compare trend for two city boroughs"
   ]
  },
  {
   "cell_type": "code",
   "execution_count": 1255,
   "metadata": {},
   "outputs": [
    {
     "name": "stdout",
     "output_type": "stream",
     "text": [
      "<class 'pandas.core.series.Series'>\n",
      "<class 'pandas.core.frame.DataFrame'>\n"
     ]
    }
   ],
   "source": [
    "print(type(properties_long['London Boroughs'] == 'Tower Hamlets'))\n",
    "print(type(properties_long[properties_long['London Boroughs'] == 'Tower Hamlets']))"
   ]
  },
  {
   "cell_type": "code",
   "execution_count": 1259,
   "metadata": {
    "colab": {},
    "colab_type": "code",
    "id": "nAg5pT9cqHAR"
   },
   "outputs": [
    {
     "name": "stdout",
     "output_type": "stream",
     "text": [
      "            ID London Boroughs        Date    Price\n",
      "29   E09000030   Tower Hamlets  1995-01-01  65716.0\n",
      "74   E09000030   Tower Hamlets  1995-02-01  68409.0\n",
      "119  E09000030   Tower Hamlets  1995-03-01  70188.0\n",
      "164  E09000030   Tower Hamlets  1995-04-01  72706.0\n",
      "209  E09000030   Tower Hamlets  1995-05-01  72926.0\n"
     ]
    },
    {
     "data": {
      "image/png": "[encoded data removed]",
      "text/plain": [
       "<Figure size 640x480 with 1 Axes>"
      ]
     },
     "metadata": {},
     "output_type": "display_data"
    }
   ],
   "source": [
    "poorbor_df = properties_long[properties_long['London Boroughs'] == 'Tower Hamlets']\n",
    "richbor_df = properties_long[properties_long['London Boroughs'] == 'Kensington & Chelsea']\n",
    "print(poorbor_df.head())\n",
    "\n",
    "# two y axes in one line of code ??? \n",
    "# plt.plot(x = richbor_df['Date'], y = [richbor_df['Price'], poorbor_df['Price']], kind = 'line')\n",
    "\n",
    "# df.plot commands are the panda-specific version of the matplot lib library - not matplot lib's version\n",
    "# two lines of code, one for each line\n",
    "plt.plot(poorbor_df['Date'], poorbor_df['Price'], label = 'Kensington & Chelsea', )\n",
    "plt.plot(richbor_df['Date'], richbor_df['Price'], label = 'Tower Hamlets', )\n",
    "\n",
    "plt.ylabel('Price')\n",
    "plt.xlabel('Month')\n",
    "plt.title = (\"Average Price for two London Boroughs - 1996 to 2024\")\n",
    "plt.legend([\"Kensington & Chelsea\", \"Tower Hamlets\"])\n",
    "plt.show()\n"
   ]
  },
  {
   "cell_type": "markdown",
   "metadata": {
    "colab_type": "text",
    "id": "aWTPqSJeqHnC"
   },
   "source": [
    "To limit the number of data points you have, you might want to extract the year from every month value your *Month* column. \n",
    "\n",
    "To this end, you *could* apply a ***lambda function***. Your logic could work as follows:\n",
    "1. look through the `Month` column\n",
    "2. extract the year from each individual value in that column \n",
    "3. store that corresponding year as separate column. \n",
    "\n",
    "Whether you go ahead with this is up to you. Just so long as you answer our initial brief: which boroughs of London have seen the greatest house price increase, on average, over the past two decades? "
   ]
  },
  {
   "cell_type": "markdown",
   "metadata": {},
   "source": [
    "properties_long['Year'] = properties_long['Date'].astype('datetime64[ns]')\n",
    "type(properties_long.loc[10,'Year'])\n",
    "\n"
   ]
  },
  {
   "cell_type": "code",
   "execution_count": 1261,
   "metadata": {},
   "outputs": [
    {
     "data": {
      "text/html": [
       "<div>\n",
       "<style scoped>\n",
       "    .dataframe tbody tr th:only-of-type {\n",
       "        vertical-align: middle;\n",
       "    }\n",
       "\n",
       "    .dataframe tbody tr th {\n",
       "        vertical-align: top;\n",
       "    }\n",
       "\n",
       "    .dataframe thead th {\n",
       "        text-align: right;\n",
       "    }\n",
       "</style>\n",
       "<table border=\"1\" class=\"dataframe\">\n",
       "  <thead>\n",
       "    <tr style=\"text-align: right;\">\n",
       "      <th></th>\n",
       "      <th>ID</th>\n",
       "      <th>London Boroughs</th>\n",
       "      <th>Date</th>\n",
       "      <th>Price</th>\n",
       "      <th>Year</th>\n",
       "    </tr>\n",
       "  </thead>\n",
       "  <tbody>\n",
       "    <tr>\n",
       "      <th>16183</th>\n",
       "      <td>E09000029</td>\n",
       "      <td>Sutton</td>\n",
       "      <td>2024-12-01</td>\n",
       "      <td>447784.0</td>\n",
       "      <td>2024</td>\n",
       "    </tr>\n",
       "    <tr>\n",
       "      <th>16184</th>\n",
       "      <td>E09000030</td>\n",
       "      <td>Tower Hamlets</td>\n",
       "      <td>2024-12-01</td>\n",
       "      <td>510154.0</td>\n",
       "      <td>2024</td>\n",
       "    </tr>\n",
       "    <tr>\n",
       "      <th>16185</th>\n",
       "      <td>E09000031</td>\n",
       "      <td>Waltham Forest</td>\n",
       "      <td>2024-12-01</td>\n",
       "      <td>522637.0</td>\n",
       "      <td>2024</td>\n",
       "    </tr>\n",
       "    <tr>\n",
       "      <th>16186</th>\n",
       "      <td>E09000032</td>\n",
       "      <td>Wandsworth</td>\n",
       "      <td>2024-12-01</td>\n",
       "      <td>677987.0</td>\n",
       "      <td>2024</td>\n",
       "    </tr>\n",
       "    <tr>\n",
       "      <th>16187</th>\n",
       "      <td>E09000033</td>\n",
       "      <td>Westminster</td>\n",
       "      <td>2024-12-01</td>\n",
       "      <td>868377.0</td>\n",
       "      <td>2024</td>\n",
       "    </tr>\n",
       "  </tbody>\n",
       "</table>\n",
       "</div>"
      ],
      "text/plain": [
       "              ID London Boroughs        Date     Price  Year\n",
       "16183  E09000029          Sutton  2024-12-01  447784.0  2024\n",
       "16184  E09000030   Tower Hamlets  2024-12-01  510154.0  2024\n",
       "16185  E09000031  Waltham Forest  2024-12-01  522637.0  2024\n",
       "16186  E09000032      Wandsworth  2024-12-01  677987.0  2024\n",
       "16187  E09000033     Westminster  2024-12-01  868377.0  2024"
      ]
     },
     "execution_count": 1261,
     "metadata": {},
     "output_type": "execute_result"
    }
   ],
   "source": [
    "# create loop to extract year from each value in the \"Date\" column and place it in the 'Month column\n",
    "# note that apply is letting you apply the lambda function to each value in the panda series\n",
    "properties_long['Year'] = properties_long['Date'].apply(lambda i: i.year)\n",
    "properties_long.tail()\n"
   ]
  },
  {
   "cell_type": "code",
   "execution_count": 1263,
   "metadata": {},
   "outputs": [
    {
     "name": "stdout",
     "output_type": "stream",
     "text": [
      "<class 'pandas.core.series.Series'>\n",
      "<class 'numpy.int64'>\n"
     ]
    }
   ],
   "source": [
    "print(type(properties_long['Year']))\n",
    "print(type(properties_long.loc[10,'Year']))"
   ]
  },
  {
   "cell_type": "markdown",
   "metadata": {
    "colab_type": "text",
    "id": "2knuTxAEqoJ4"
   },
   "source": [
    "**3. Modeling**\n",
    "\n",
    "Consider creating a function that will calculate a ratio of house prices, comparing the price of a house in 2018 to the price in 1998.\n",
    "\n",
    "Consider calling this function create_price_ratio.\n",
    "\n",
    "You'd want this function to:\n",
    "1. Take a filter of dfg, specifically where this filter constrains the London_Borough, as an argument. For example, one admissible argument should be: dfg[dfg['London_Borough']=='Camden'].\n",
    "2. Get the Average Price for that Borough, for the years 1998 and 2018.\n",
    "4. Calculate the ratio of the Average Price for 1998 divided by the Average Price for 2018.\n",
    "5. Return that ratio.\n",
    "\n",
    "Once you've written this function, you ultimately want to use it to iterate through all the unique London_Boroughs and work out the ratio capturing the difference of house prices between 1998 and 2018.\n",
    "\n",
    "Bear in mind: you don't have to write a function like this if you don't want to. If you can solve the brief otherwise, then great! \n",
    "\n",
    "***Hint***: This section should test the skills you acquired in:\n",
    "- Python Data Science Toolbox - Part One, all modules"
   ]
  },
  {
   "cell_type": "code",
   "execution_count": 1062,
   "metadata": {},
   "outputs": [
    {
     "name": "stdout",
     "output_type": "stream",
     "text": [
      "          ID     London Boroughs        Date    Price  Year\n",
      "1  E09000002  Barking & Dagenham  1995-01-01  51870.0  1995\n",
      "2  E09000003              Barnet  1995-01-01  98948.0  1995\n",
      "3  E09000004              Bexley  1995-01-01  64956.0  1995\n",
      "4  E09000005               Brent  1995-01-01  76880.0  1995\n",
      "5  E09000006             Bromley  1995-01-01  83082.0  1995\n"
     ]
    }
   ],
   "source": [
    "print(properties_long.head())"
   ]
  },
  {
   "cell_type": "code",
   "execution_count": 1265,
   "metadata": {},
   "outputs": [
    {
     "name": "stdout",
     "output_type": "stream",
     "text": [
      "                                Price\n",
      "London Boroughs    Year              \n",
      "Barking & Dagenham 1995  5.326542e+04\n",
      "                   1996  5.316267e+04\n",
      "                   1997  5.753758e+04\n",
      "                   1998  6.196967e+04\n",
      "                   1999  6.714533e+04\n",
      "...                               ...\n",
      "Westminster        2020  1.022381e+06\n",
      "                   2021  1.083784e+06\n",
      "                   2022  1.155571e+06\n",
      "                   2023  1.148412e+06\n",
      "                   2024  1.048328e+06\n",
      "\n",
      "[960 rows x 1 columns]\n",
      "<class 'pandas.core.frame.DataFrame'>\n",
      "Index(['Price'], dtype='object')\n",
      "        London Boroughs  Year         Price\n",
      "0    Barking & Dagenham  1995  5.326542e+04\n",
      "1    Barking & Dagenham  1996  5.316267e+04\n",
      "2    Barking & Dagenham  1997  5.753758e+04\n",
      "3    Barking & Dagenham  1998  6.196967e+04\n",
      "4    Barking & Dagenham  1999  6.714533e+04\n",
      "..                  ...   ...           ...\n",
      "955         Westminster  2020  1.022381e+06\n",
      "956         Westminster  2021  1.083784e+06\n",
      "957         Westminster  2022  1.155571e+06\n",
      "958         Westminster  2023  1.148412e+06\n",
      "959         Westminster  2024  1.048328e+06\n",
      "\n",
      "[960 rows x 3 columns]\n",
      "      London Boroughs  Year  Average Yearly Price\n",
      "0  Barking & Dagenham  1995          53265.416667\n",
      "1  Barking & Dagenham  1996          53162.666667\n",
      "2  Barking & Dagenham  1997          57537.583333\n",
      "3  Barking & Dagenham  1998          61969.666667\n",
      "4  Barking & Dagenham  1999          67145.333333\n"
     ]
    }
   ],
   "source": [
    "# Summarize across months to get average price per year\n",
    "# dfg = properties_long(by=['London Boroughs', 'Year']).mean()\n",
    "dfg = pd.DataFrame(properties_long.groupby(['London Boroughs', 'Year'])['Price'].mean())\n",
    "print(dfg)\n",
    "dfg.sample(10)\n",
    "print(type(dfg))\n",
    "print(dfg.columns)\n",
    "dfg = dfg.reset_index()\n",
    "print(dfg)\n",
    "dfg.rename(columns = {'Price': 'Average Yearly Price'}, inplace = True)\n",
    "print(dfg.head())"
   ]
  },
  {
   "cell_type": "code",
   "execution_count": 1339,
   "metadata": {},
   "outputs": [
    {
     "name": "stdout",
     "output_type": "stream",
     "text": [
      "          London Boroughs  Average Yearly Price\n",
      "563  Kensington & Chelsea          1.475628e+06\n",
      "953           Westminster          1.084205e+06\n",
      "173                Camden          8.341242e+05\n",
      "353  Hammersmith & Fulham          7.516420e+05\n",
      "773  Richmond upon Thames          6.919329e+05\n",
      "923            Wandsworth          6.845348e+05\n",
      "533             Islington          6.499577e+05\n",
      "383              Haringey          5.928306e+05\n",
      "803             Southwark          5.819941e+05\n",
      "53                 Barnet          5.655867e+05\n",
      "323               Hackney          5.631150e+05\n",
      "683                Merton          5.480804e+05\n",
      "623               Lambeth          5.476578e+05\n",
      "113                 Brent          5.314624e+05\n",
      "593  Kingston upon Thames          5.235087e+05\n",
      "233                Ealing          5.136391e+05\n",
      "863         Tower Hamlets          4.901423e+05\n",
      "413                Harrow          4.767141e+05\n",
      "893        Waltham Forest          4.552378e+05\n",
      "143               Bromley          4.510741e+05\n",
      "503              Hounslow          4.505707e+05\n",
      "653              Lewisham          4.367044e+05\n",
      "473            Hillingdon          4.212911e+05\n",
      "263               Enfield          4.211923e+05\n",
      "743             Redbridge          4.150043e+05\n",
      "293             Greenwich          4.101097e+05\n",
      "833                Sutton          3.834511e+05\n",
      "443              Havering          3.756400e+05\n",
      "203               Croydon          3.754268e+05\n",
      "713                Newham          3.752754e+05\n",
      "83                 Bexley          3.426632e+05\n",
      "23     Barking & Dagenham          3.034295e+05\n"
     ]
    }
   ],
   "source": [
    "# calculate the borough where with the largest average property price\n",
    "dfg_2018 = dfg[['London Boroughs','Average Yearly Price']][dfg['Year'] == 2018]\n",
    "sorted_dfg_2018 = dfg_2018.sort_values(by = 'Average Yearly Price', ascending = False)\n",
    "print(sorted_dfg_2018)"
   ]
  },
  {
   "cell_type": "code",
   "execution_count": 1267,
   "metadata": {
    "colab": {},
    "colab_type": "code",
    "id": "cKTyr437UgDa"
   },
   "outputs": [
    {
     "name": "stdout",
     "output_type": "stream",
     "text": [
      "<class 'pandas.core.frame.DataFrame'>\n"
     ]
    }
   ],
   "source": [
    "# Write the function that accepts name of the borough and returns the ratio between the average yearly prices between 2018 and 1998\n",
    "# for each borough\n",
    "print(type(dfg))\n",
    "\n",
    "def create_price_ratio_g(borough): \n",
    "    avg_price_2018 = dfg[(dfg['Year'] == 2018) & (dfg['London Boroughs'] == \"borough\")]['Average Yearly Price']\n",
    "    avg_price_1998 = dfg[(dfg['Year'] == 1998) & (dfg['London Boroughs'] == \"borough\")]['Average Yearly Price']\n",
    "    print(type(avg_price_1998))\n",
    "    len((avg_price_1998))\n",
    "    # avg_price_2018 = avg_price_2018.values[0]\n",
    "    # avg_price_1998 = avg_price_1998.values[0]\n",
    "    price_ratio = avg_price_2018/avg_price_1998\n",
    "    print(price_ratios)\n",
    "    return price_ratios\n"
   ]
  },
  {
   "cell_type": "code",
   "execution_count": 1269,
   "metadata": {},
   "outputs": [
    {
     "name": "stdout",
     "output_type": "stream",
     "text": [
      "<class 'pandas.core.series.Series'>\n",
      "3    61969.666667\n",
      "Name: Average Yearly Price, dtype: float64\n",
      "<class 'pandas.core.series.Series'>\n",
      "23    303429.5\n",
      "Name: Average Yearly Price, dtype: float64\n",
      "<class 'numpy.float64'>\n",
      "4.896419753750491\n"
     ]
    }
   ],
   "source": [
    "# my function generates two values, one for each year, but when I try and divide one value by the other I get NaN value.... why??\n",
    "# you must extract the values from the series. If the two series do not have the same index, pandas will generate a missing value when you \n",
    "# divide one by the other\n",
    "\n",
    "avg_price_2018 = dfg[(dfg['Year'] == 2018) & (dfg['London Boroughs'] == \"Barking & Dagenham\")]['Average Yearly Price']\n",
    "avg_price_1998 = dfg[(dfg['Year'] == 1998) & (dfg['London Boroughs'] == \"Barking & Dagenham\")]['Average Yearly Price']\n",
    "print(type(avg_price_1998))\n",
    "print(avg_price_1998)\n",
    "print(type(avg_price_2018))\n",
    "print(avg_price_2018)\n",
    "avg_price_2018 = avg_price_2018.iloc[0]\n",
    "print(type(avg_price_2018))\n",
    "avg_price_1998 = avg_price_1998.iloc[0]\n",
    "print((avg_price_2018/avg_price_1998))"
   ]
  },
  {
   "cell_type": "code",
   "execution_count": 1271,
   "metadata": {},
   "outputs": [
    {
     "name": "stderr",
     "output_type": "stream",
     "text": [
      "/var/folders/zg/81kjn_8j4692tlw3f6q33h6w0000gq/T/ipykernel_61044/2232653649.py:5: FutureWarning: Calling float on a single element Series is deprecated and will raise a TypeError in the future. Use float(ser.iloc[0]) instead\n",
      "  y1998 = float(d['Average Yearly Price'][d['Year']==1998])\n",
      "/var/folders/zg/81kjn_8j4692tlw3f6q33h6w0000gq/T/ipykernel_61044/2232653649.py:6: FutureWarning: Calling float on a single element Series is deprecated and will raise a TypeError in the future. Use float(ser.iloc[0]) instead\n",
      "  y2018 = float(d['Average Yearly Price'][d['Year']==2018])\n"
     ]
    },
    {
     "data": {
      "text/plain": [
       "4.9"
      ]
     },
     "execution_count": 1271,
     "metadata": {},
     "output_type": "execute_result"
    }
   ],
   "source": [
    "# Using code From Tier 1 file - write function:\n",
    "# not clear to me what d is supposed to be... a data frame?\n",
    "# d is a subsetted data frame including only data for a specific borough\n",
    "def create_price_ratio(d):\n",
    "    y1998 = float(d['Average Yearly Price'][d['Year']==1998])\n",
    "    y2018 = float(d['Average Yearly Price'][d['Year']==2018])\n",
    "    ratio = y2018/y1998\n",
    "    return round(ratio, 2)\n",
    "create_price_ratio(dfg.loc[dfg['London Boroughs']=='Barking & Dagenham'])\n",
    "\n",
    "# how would i re-write the code with this syntax:     \n",
    "# /var/folders/zg/81kjn_8j4692tlw3f6q33h6w0000gq/T/ipykernel_61044/1941465313.py:4: FutureWarning: Calling float on a single element Series is deprecated and will raise a TypeError in the future. Use float(ser.iloc[0]) instead"
   ]
  },
  {
   "cell_type": "code",
   "execution_count": 1273,
   "metadata": {},
   "outputs": [
    {
     "name": "stdout",
     "output_type": "stream",
     "text": [
      "{'Barking & Dagenham': 4.9, 'Barnet': 4.36, 'Bexley': 4.25, 'Brent': 4.9, 'Bromley': 4.09, 'Camden': 4.93, 'Croydon': 4.2, 'Ealing': 4.31, 'Enfield': 4.26, 'Greenwich': 4.76, 'Hackney': 6.2, 'Hammersmith & Fulham': 4.14, 'Haringey': 5.13, 'Harrow': 4.06, 'Havering': 4.33, 'Hillingdon': 4.2, 'Hounslow': 3.98, 'Islington': 4.84, 'Kensington & Chelsea': 5.08, 'Kingston upon Thames': 4.27, 'Lambeth': 4.96, 'Lewisham': 5.45, 'Merton': 4.75, 'Newham': 5.31, 'Redbridge': 4.47, 'Richmond upon Thames': 4.0, 'Southwark': 5.52, 'Sutton': 4.12, 'Tower Hamlets': 4.63, 'Waltham Forest': 5.84, 'Wandsworth': 4.76, 'Westminster': 5.35}\n"
     ]
    },
    {
     "name": "stderr",
     "output_type": "stream",
     "text": [
      "/var/folders/zg/81kjn_8j4692tlw3f6q33h6w0000gq/T/ipykernel_61044/2232653649.py:5: FutureWarning: Calling float on a single element Series is deprecated and will raise a TypeError in the future. Use float(ser.iloc[0]) instead\n",
      "  y1998 = float(d['Average Yearly Price'][d['Year']==1998])\n",
      "/var/folders/zg/81kjn_8j4692tlw3f6q33h6w0000gq/T/ipykernel_61044/2232653649.py:6: FutureWarning: Calling float on a single element Series is deprecated and will raise a TypeError in the future. Use float(ser.iloc[0]) instead\n",
      "  y2018 = float(d['Average Yearly Price'][d['Year']==2018])\n"
     ]
    }
   ],
   "source": [
    "# loop through all boroughs to calculate the price ratio between 1998 and 2018 by nesting the previous function\n",
    "# in a larger function\n",
    "final = {}\n",
    "# Call the iterator variable 'b'. \n",
    "for b in dfg['London Boroughs'].unique():\n",
    "    # Let's make our parameter to our create_price_ratio function: i.e., we subset dfg on 'London_Borough' == b. \n",
    "    borough = dfg[dfg['London Boroughs'] == b]\n",
    "    # Make a new entry in the final dictionary whose value's the result of calling create_price_ratio with the argument: borough\n",
    "    final[b] = create_price_ratio(borough)\n",
    "# We use the function and incorporate that into a new key of the dictionary \n",
    "print(final)"
   ]
  },
  {
   "cell_type": "code",
   "execution_count": 1283,
   "metadata": {},
   "outputs": [
    {
     "name": "stdout",
     "output_type": "stream",
     "text": [
      "Sorted dictionary (descending): {'Hackney': 6.2, 'Waltham Forest': 5.84, 'Southwark': 5.52, 'Lewisham': 5.45, 'Westminster': 5.35, 'Newham': 5.31, 'Haringey': 5.13, 'Kensington & Chelsea': 5.08, 'Lambeth': 4.96, 'Camden': 4.93, 'Barking & Dagenham': 4.9, 'Brent': 4.9, 'Islington': 4.84, 'Greenwich': 4.76, 'Wandsworth': 4.76, 'Merton': 4.75, 'Tower Hamlets': 4.63, 'Redbridge': 4.47, 'Barnet': 4.36, 'Havering': 4.33, 'Ealing': 4.31, 'Kingston upon Thames': 4.27, 'Enfield': 4.26, 'Bexley': 4.25, 'Croydon': 4.2, 'Hillingdon': 4.2, 'Hammersmith & Fulham': 4.14, 'Sutton': 4.12, 'Bromley': 4.09, 'Harrow': 4.06, 'Richmond upon Thames': 4.0, 'Hounslow': 3.98}\n"
     ]
    }
   ],
   "source": [
    "# sort final results\n",
    "sorted_final_values = sorted(final.values(), reverse = True)\n",
    "sorted_final = dict(sorted(final.items(), key=lambda item: item[1], reverse=True))\n",
    "print(\"Sorted dictionary (descending):\", sorted_final)"
   ]
  },
  {
   "cell_type": "code",
   "execution_count": 1391,
   "metadata": {},
   "outputs": [
    {
     "name": "stdout",
     "output_type": "stream",
     "text": [
      "Median value: 4.6899999999999995\n"
     ]
    }
   ],
   "source": [
    "# Calulate the median price ratio\n",
    "import statistics\n",
    "# values = list(sorted_final.values())\n",
    "median_ratio= statistics.median(list(sorted_final.values()))\n",
    "\n",
    "print(\"Median value:\", median_ratio)\n"
   ]
  },
  {
   "cell_type": "code",
   "execution_count": 1381,
   "metadata": {},
   "outputs": [
    {
     "data": {
      "image/png": "[encoded data removed]",
      "text/plain": [
       "<Figure size 640x480 with 1 Axes>"
      ]
     },
     "metadata": {},
     "output_type": "display_data"
    }
   ],
   "source": [
    "# make bar graph from dictionary ratio\n",
    "\n",
    "# Extract keys (categories) and values\n",
    "boroughs = list(sorted_final.keys())\n",
    "ratio = list(sorted_final.values())\n",
    "\n",
    "# Create a bar graph\n",
    "plt.bar(boroughs, ratio, color='skyblue')\n",
    "# plt.figure(figsize=(10,5))\n",
    "\n",
    "# Add labels and title\n",
    "plt.xlabel('London Boroughs')\n",
    "plt.xticks(rotation=45)  # Rotate labels by 45 degrees\n",
    "plt.ylabel('Ratio of Avg Property Price Changes, 2018 vs. 1998')\n",
    "# plt.title('Bar Graph of Price Ratios')\n",
    "\n",
    "# Display the graph\n",
    "plt.show()"
   ]
  },
  {
   "cell_type": "code",
   "execution_count": 1385,
   "metadata": {},
   "outputs": [
    {
     "data": {
      "image/png": "[encoded data removed]",
      "text/plain": [
       "<Figure size 640x480 with 1 Axes>"
      ]
     },
     "metadata": {},
     "output_type": "display_data"
    }
   ],
   "source": [
    "hounslow_df = properties_long[properties_long['London Boroughs'] == 'Hounslow']\n",
    "poorbor_df = properties_long[properties_long['London Boroughs'] == 'Tower Hamlets']\n",
    "richbor_df = properties_long[properties_long['London Boroughs'] == 'Kensington & Chelsea']\n",
    "\n",
    "# add a line of code, one for each line\n",
    "plt.plot(poorbor_df['Date'], poorbor_df['Price'], label = 'Kensington & Chelsea', )\n",
    "plt.plot(richbor_df['Date'], richbor_df['Price'], label = 'Tower Hamlets', )\n",
    "plt.plot(hounslow_df['Date'], hounslow_df['Price'], label = 'Hounslow', )\n",
    "\n",
    "\n",
    "plt.ylabel('Price')\n",
    "plt.xlabel('Month')\n",
    "plt.title = (\"Average Price for three London Boroughs - 1998 to 2018\")\n",
    "plt.legend([\"Kensington & Chelsea\", \"Tower Hamlets\", \"Hounslow\"])\n",
    "plt.show()"
   ]
  },
  {
   "cell_type": "markdown",
   "metadata": {
    "colab_type": "text",
    "id": "NzYUI7FxJpgv"
   },
   "source": [
    "### 4. Conclusion\n",
    "What can you conclude? Type out your conclusion below. \n",
    "\n",
    "Please see my responses here:\n",
    "https://docs.google.com/document/d/11pW4LvnshgktQffedr80CeAPhSVl8QUiOdD8G1Qzujk/edit?usp=sharing \n",
    "\n",
    "Look back at your notebook. Think about how you might summarize what you have done, and prepare a quick presentation on it to your mentor at your next meeting. \n",
    "\n",
    "We hope you enjoyed this practical project. It should have consolidated your data hygiene and pandas skills by looking at a real-world problem involving just the kind of dataset you might encounter as a budding data scientist. Congratulations, and looking forward to seeing you at the next step in the course! "
   ]
  }
 ],
 "metadata": {
  "colab": {
   "collapsed_sections": [],
   "name": "Springboard Data Science Career Track Unit 4 Challenge - Tier 3 Complete .ipynb",
   "provenance": []
  },
  "kernelspec": {
   "display_name": "Python [conda env:base] *",
   "language": "python",
   "name": "conda-base-py"
  },
  "language_info": {
   "codemirror_mode": {
    "name": "ipython",
    "version": 3
   },
   "file_extension": ".py",
   "mimetype": "text/x-python",
   "name": "python",
   "nbconvert_exporter": "python",
   "pygments_lexer": "ipython3",
   "version": "3.12.7"
  }
 },
 "nbformat": 4,
 "nbformat_minor": 4
}
